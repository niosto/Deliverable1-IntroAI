{
 "cells": [
  {
   "cell_type": "code",
   "execution_count": null,
   "id": "1472b962",
   "metadata": {},
   "outputs": [],
   "source": [
    "import random\n",
    "from collections import defaultdict\n",
    "import matplotlib.pyplot as plt"
   ]
  },
  {
   "cell_type": "code",
   "execution_count": 43,
   "id": "f2b1b73f",
   "metadata": {},
   "outputs": [],
   "source": [
    "minSemesters = 2\n",
    "maxSemesters = 5\n",
    "\n",
    "difficulty = {\n",
    "    'C1':4,\n",
    "    'C2':4,\n",
    "    'C3':4,\n",
    "    'CT':3,\n",
    "    'ADS':3,\n",
    "    'ADS2':3,\n",
    "    'DM':4,\n",
    "    'P1':3,\n",
    "    'NFI1':1,\n",
    "    'NFI2':1,\n",
    "    'SE':2,\n",
    "    'OS':2\n",
    "}\n",
    "\n",
    "courses=[i for i in difficulty]\n",
    "\n",
    "prereq = {\n",
    "    'C2':['C1'],\n",
    "    'C3':['C2'],\n",
    "    'ADS':['CT'],\n",
    "    'ADS':['ADS2'],\n",
    "    'P1':['OS','SE']\n",
    "}\n",
    "\n",
    "def is_valid(ind):\n",
    "    for course in ind:\n",
    "        if course not in prereq:\n",
    "            continue\n",
    "        for pre in prereq[course]:\n",
    "            if ind.get(pre) and (ind[pre] > ind[course]):\n",
    "                return False\n",
    "    return True \n"
   ]
  },
  {
   "cell_type": "code",
   "execution_count": null,
   "id": "41a130f4",
   "metadata": {},
   "outputs": [],
   "source": [
    "def create_individual():\n",
    "    n_sem = random.randint(minSemesters, maxSemesters)\n",
    "    ind = {}\n",
    "\n",
    "    for c in courses:\n",
    "        ind[c] = random.randint(1, n_sem)\n",
    "    return ind"
   ]
  },
  {
   "cell_type": "code",
   "execution_count": 76,
   "id": "db761027",
   "metadata": {},
   "outputs": [],
   "source": [
    "def fitness(ind):\n",
    "    max_semester = max(sem for _, sem in ind.items())\n",
    "    \n",
    "    semesters = {}\n",
    "    score = 300\n",
    "\n",
    "    for course, sem in ind.items():\n",
    "\n",
    "        if course in prereq:\n",
    "            for pre in prereq[course]:\n",
    "                # Penalizar individuos invalidos\n",
    "                if sem >= ind[pre]:\n",
    "                    score -= 300\n",
    "                else:\n",
    "                # Penalizar por diferencia entre semestres de prerrequisito\n",
    "                    score -= (sem - ind[pre])*2\n",
    "\n",
    "        # Divide individual for semesters\n",
    "        semesters.setdefault(sem, []).append(course)\n",
    "\n",
    "    median_count = len(courses)\n",
    "    course_counts = [len(c) for c in semesters.values()]\n",
    "    # Penalizar desviación de promedio de materias semestrales\n",
    "    courses\n",
    "    for count in course_counts:\n",
    "        score -= abs(count - median_count) * 5\n",
    "\n",
    "    return semesters\n"
   ]
  },
  {
   "cell_type": "code",
   "execution_count": 77,
   "id": "48d12c71",
   "metadata": {},
   "outputs": [
    {
     "data": {
      "text/plain": [
       "{1: ['C1', 'C2', 'CT', 'ADS2', 'DM', 'P1', 'NFI1', 'NFI2', 'SE', 'OS'],\n",
       " 2: ['C3', 'ADS']}"
      ]
     },
     "execution_count": 77,
     "metadata": {},
     "output_type": "execute_result"
    }
   ],
   "source": [
    "ind = create_individual()\n",
    "fitness(ind)"
   ]
  },
  {
   "cell_type": "code",
   "execution_count": 78,
   "id": "f63d2215",
   "metadata": {},
   "outputs": [
    {
     "data": {
      "text/plain": [
       "{'C1': 1,\n",
       " 'C2': 1,\n",
       " 'C3': 2,\n",
       " 'CT': 1,\n",
       " 'ADS': 2,\n",
       " 'ADS2': 1,\n",
       " 'DM': 1,\n",
       " 'P1': 1,\n",
       " 'NFI1': 1,\n",
       " 'NFI2': 1,\n",
       " 'SE': 1,\n",
       " 'OS': 1}"
      ]
     },
     "execution_count": 78,
     "metadata": {},
     "output_type": "execute_result"
    }
   ],
   "source": [
    "ind"
   ]
  }
 ],
 "metadata": {
  "kernelspec": {
   "display_name": "base",
   "language": "python",
   "name": "python3"
  },
  "language_info": {
   "codemirror_mode": {
    "name": "ipython",
    "version": 3
   },
   "file_extension": ".py",
   "mimetype": "text/x-python",
   "name": "python",
   "nbconvert_exporter": "python",
   "pygments_lexer": "ipython3",
   "version": "3.12.7"
  }
 },
 "nbformat": 4,
 "nbformat_minor": 5
}
