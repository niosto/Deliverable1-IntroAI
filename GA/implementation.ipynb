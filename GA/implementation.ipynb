{
 "cells": [
  {
   "cell_type": "code",
   "execution_count": 1,
   "id": "1472b962",
   "metadata": {},
   "outputs": [],
   "source": [
    "import random\n",
    "from collections import defaultdict\n",
    "import matplotlib.pyplot as plt"
   ]
  },
  {
   "cell_type": "code",
   "execution_count": 2,
   "id": "f2b1b73f",
   "metadata": {},
   "outputs": [],
   "source": [
    "minSemesters = 2\n",
    "maxSemesters = 5\n",
    "\n",
    "difficulty = {\n",
    "    'C1':4,\n",
    "    'C2':4,\n",
    "    'C3':4,\n",
    "    'CT':3,\n",
    "    'ADS':3,\n",
    "    'ADS2':3,\n",
    "    'DM':4,\n",
    "    'P1':3,\n",
    "    'NFI1':1,\n",
    "    'NFI2':1,\n",
    "    'SE':2,\n",
    "    'OS':2\n",
    "}\n",
    "\n",
    "courses=[i for i in difficulty]\n",
    "\n",
    "prereq = {\n",
    "    'C2':['C1'],\n",
    "    'C3':['C2'],\n",
    "    'ADS':['CT'],\n",
    "    'ADS':['ADS2'],\n",
    "    'P1':['OS','SE']\n",
    "}\n",
    "\n",
    "def is_valid(ind):\n",
    "    for course in ind:\n",
    "        if course in prereq:\n",
    "            for pre in prereq[course]:\n",
    "                if ind[course] <= ind[pre]:\n",
    "                    return False\n",
    "    return True \n"
   ]
  },
  {
   "cell_type": "code",
   "execution_count": 3,
   "id": "41a130f4",
   "metadata": {},
   "outputs": [],
   "source": [
    "def create_individual():\n",
    "    ind = {}\n",
    "    placed = set()\n",
    "    pending = [c for c in courses if c not in prereq]  # courses without prereqs\n",
    "    n_sem = random.randint(minSemesters, maxSemesters)\n",
    "\n",
    "    while pending:\n",
    "        course = random.choice(pending)\n",
    "        pending.remove(course)\n",
    "        # Asignar cursos según su prerrequisito\n",
    "        if course in prereq:\n",
    "            min_sem = max(ind[p] for p in prereq[course]) + 1\n",
    "        else:\n",
    "            min_sem = 1\n",
    "            \n",
    "        sem = random.randint(min_sem, n_sem) if min_sem <= n_sem else n_sem\n",
    "        ind[course] = sem\n",
    "\n",
    "        placed.add(course)\n",
    "\n",
    "        # Habilitar cursos con prerrequisitos\n",
    "        for c in courses:\n",
    "            if c not in placed and c not in pending:\n",
    "                if all(p in placed for p in prereq.get(c, [])):\n",
    "                    pending.append(c)\n",
    "\n",
    "    return ind\n",
    "\n",
    "def create_population(size=15):\n",
    "    return [create_individual() for _ in range(size)]\n"
   ]
  },
  {
   "cell_type": "code",
   "execution_count": 4,
   "id": "db761027",
   "metadata": {},
   "outputs": [],
   "source": [
    "def fitness(ind):\n",
    "    n_sem = -1\n",
    "    semesters = {}\n",
    "    score = 200\n",
    "\n",
    "    for course, sem in ind.items():\n",
    "        n_sem = max(sem, n_sem)\n",
    "        if course in prereq:\n",
    "            for pre in prereq[course]:\n",
    "                # Penalizar individuos invalidos\n",
    "                if sem <= ind[pre]:\n",
    "                    score -= 200\n",
    "                else:\n",
    "                # Penalizar por diferencia entre semestres de prerrequisito\n",
    "                    score -= (sem - ind[pre] - 1)*2\n",
    "\n",
    "        # Dividir individuo por semestres\n",
    "        semesters.setdefault(sem, []).append(course)\n",
    "\n",
    "    median_count = len(courses)/n_sem\n",
    "    median_load = sum(difficulty.values())/n_sem\n",
    "    course_counts = [len(c) for c in semesters.values()]\n",
    "\n",
    "    # Penalizar por desviación de promedio de materias semestrales\n",
    "    for count in course_counts:\n",
    "        score -= abs(count - median_count) * 5\n",
    "\n",
    "    # Penalizar por desviación de promedio de carga semestral\n",
    "    for c in semesters.values():\n",
    "        load = sum([difficulty[i] for i in c])\n",
    "        score -= abs(load - median_load) * 3\n",
    "\n",
    "    return round(score)"
   ]
  },
  {
   "cell_type": "code",
   "execution_count": 5,
   "id": "ef38ba73",
   "metadata": {},
   "outputs": [],
   "source": [
    "def selection(population):\n",
    "    a, b = random.sample(population, 2)\n",
    "    return a if fitness(a) > fitness(b) else b\n",
    "\n",
    "def mutate(ind, prob=0.2):\n",
    "    if random.random() < prob:\n",
    "        n_sem = max(ind.values())\n",
    "        random_key = random.choice(list(ind.keys()))\n",
    "        ind[random_key] = random.randint(1, n_sem)\n",
    "    return ind\n",
    "\n",
    "def crossover(parent1, parent2):\n",
    "    child = {}\n",
    "    for course in parent1.keys():\n",
    "        child[course] = parent1[course] if random.random() < 0.5 else parent2[course]\n",
    "    return child"
   ]
  },
  {
   "cell_type": "code",
   "execution_count": 6,
   "id": "f63d2215",
   "metadata": {},
   "outputs": [],
   "source": [
    "def evolve(population, generations=30):\n",
    "    for gen in range(generations):\n",
    "        new_pop = []\n",
    "        for _ in range(len(population)):\n",
    "            p1 = selection(population)\n",
    "            p2 = selection(population)\n",
    "            child = crossover(p1, p2)\n",
    "            child = mutate(child)\n",
    "            new_pop.append(child)\n",
    "\n",
    "        population = new_pop\n",
    "        best = max(population, key=fitness)\n",
    "        print(f\"Gen {gen+1:2d} | Fitness: {fitness(best)}\")\n",
    "    return best"
   ]
  },
  {
   "cell_type": "code",
   "execution_count": 7,
   "id": "2affed9f",
   "metadata": {},
   "outputs": [
    {
     "name": "stdout",
     "output_type": "stream",
     "text": [
      "Gen  1 | Fitness: 150\n",
      "Gen  2 | Fitness: 122\n",
      "Gen  3 | Fitness: 152\n",
      "Gen  4 | Fitness: 152\n",
      "Gen  5 | Fitness: 144\n",
      "Gen  6 | Fitness: 152\n",
      "Gen  7 | Fitness: 160\n",
      "Gen  8 | Fitness: 166\n",
      "Gen  9 | Fitness: 173\n",
      "Gen 10 | Fitness: 169\n",
      "Gen 11 | Fitness: 171\n",
      "Gen 12 | Fitness: 173\n",
      "Gen 13 | Fitness: 173\n",
      "Gen 14 | Fitness: 179\n",
      "Gen 15 | Fitness: 179\n",
      "Gen 16 | Fitness: 179\n",
      "Gen 17 | Fitness: 179\n",
      "Gen 18 | Fitness: 179\n",
      "Gen 19 | Fitness: 179\n",
      "Gen 20 | Fitness: 179\n",
      "Gen 21 | Fitness: 179\n",
      "Gen 22 | Fitness: 179\n",
      "Gen 23 | Fitness: 179\n",
      "Gen 24 | Fitness: 179\n",
      "Gen 25 | Fitness: 179\n",
      "Gen 26 | Fitness: 179\n",
      "Gen 27 | Fitness: 179\n",
      "Gen 28 | Fitness: 179\n",
      "Gen 29 | Fitness: 179\n",
      "Gen 30 | Fitness: 179\n"
     ]
    }
   ],
   "source": [
    "population = create_population()\n",
    "best = evolve(population)"
   ]
  },
  {
   "cell_type": "code",
   "execution_count": 8,
   "id": "c94a3b56",
   "metadata": {},
   "outputs": [
    {
     "name": "stdout",
     "output_type": "stream",
     "text": [
      "Mejor solución válida \n",
      "\n",
      "Semestre 1:['NFI1', 'DM', 'NFI2']\n",
      "\n",
      "Semestre 3:['C1', 'ADS']\n",
      "\n",
      "Semestre 2:['OS', 'ADS2', 'SE']\n",
      "\n",
      "Semestre 5:['CT', 'C3']\n",
      "\n",
      "Semestre 4:['C2', 'P1']\n"
     ]
    }
   ],
   "source": [
    "semesters = defaultdict(list)\n",
    "for course, sem in best.items():\n",
    "    semesters[sem].append(course)\n",
    "\n",
    "print(\"Mejor solución\" + \" válida \" if is_valid(best) else \" no válida\" + \" hallada \")\n",
    "for semester, c in semesters.items():\n",
    "    print(f\"\\nSemestre {semester}:{c}\")"
   ]
  },
  {
   "cell_type": "code",
   "execution_count": 9,
   "id": "ccf37d41",
   "metadata": {},
   "outputs": [],
   "source": [
    "import matplotlib.pyplot as plt\n",
    "from collections import defaultdict\n",
    "\n",
    "def visualize_individual(ind, title=\"Mejor Pénsum\"):\n",
    "    # Agrupar cursos\n",
    "    semesters = defaultdict(list)\n",
    "    for course, sem in ind.items():\n",
    "        semesters[sem].append(course)\n",
    "\n",
    "    max_sem = max(semesters.keys())\n",
    "\n",
    "    # Sort semesters\n",
    "    ordered = [semesters[i] for i in range(1, max_sem+1)]\n",
    "\n",
    "    # Find maximum courses in any semester (for equal table width)\n",
    "    max_courses = max(len(s) for s in ordered)\n",
    "\n",
    "    # Create table data with padding\n",
    "    table_data = []\n",
    "    for i, sem_courses in enumerate(ordered, start=1):\n",
    "        row = [f\"Semestre {i}\"]\n",
    "        for c in sem_courses:\n",
    "            row.append(f\"{c} ({difficulty[c]})\")\n",
    "        # pad with blanks so all rows are same length\n",
    "        while len(row) < max_courses + 1:\n",
    "            row.append(\"\")\n",
    "        table_data.append(row)\n",
    "\n",
    "    # Crear figura\n",
    "    fig, ax = plt.subplots(figsize=(12, max_sem*1.2))\n",
    "    ax.axis(\"off\")\n",
    "\n",
    "    table = ax.table(\n",
    "        cellText=table_data,\n",
    "        cellLoc=\"center\",\n",
    "        loc=\"center\",\n",
    "    )\n",
    "\n",
    "    table.auto_set_font_size(False)\n",
    "    table.set_fontsize(10)\n",
    "    table.scale(1.2, 1.2)\n",
    "\n",
    "    ax.set_title(title, fontsize=14, fontweight=\"bold\")\n",
    "    #plt.savefig(\"GA-Ejemplo.png\")\n",
    "    plt.show()\n"
   ]
  },
  {
   "cell_type": "code",
   "execution_count": 10,
   "id": "a77c75cb",
   "metadata": {},
   "outputs": [
    {
     "data": {
      "image/png": "[encoded data removed]",
      "text/plain": [
       "<Figure size 1200x600 with 1 Axes>"
      ]
     },
     "metadata": {},
     "output_type": "display_data"
    }
   ],
   "source": [
    "visualize_individual(best)"
   ]
  }
 ],
 "metadata": {
  "kernelspec": {
   "display_name": "base",
   "language": "python",
   "name": "python3"
  },
  "language_info": {
   "codemirror_mode": {
    "name": "ipython",
    "version": 3
   },
   "file_extension": ".py",
   "mimetype": "text/x-python",
   "name": "python",
   "nbconvert_exporter": "python",
   "pygments_lexer": "ipython3",
   "version": "3.12.7"
  }
 },
 "nbformat": 4,
 "nbformat_minor": 5
}
