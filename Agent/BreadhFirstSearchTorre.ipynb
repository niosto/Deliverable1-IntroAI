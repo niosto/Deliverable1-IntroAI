{
 "cells": [
  {
   "cell_type": "markdown",
   "id": "30718252",
   "metadata": {},
   "source": [
    "**ALGORITMOS DE BUSQUEDA - Breadh First Search Torre de Hanoi**"
   ]
  },
  {
   "cell_type": "markdown",
   "id": "25ced9a0",
   "metadata": {},
   "source": [
    "Busqueda ciega"
   ]
  },
  {
   "cell_type": "code",
   "execution_count": 61,
   "id": "b705d48e",
   "metadata": {},
   "outputs": [],
   "source": [
    "from collections import deque\n",
    "import heapq\n",
    "import time # Para comparar tiempos de ejecucion"
   ]
  },
  {
   "cell_type": "code",
   "execution_count": 62,
   "id": "d7913f36",
   "metadata": {},
   "outputs": [],
   "source": [
    "def generar_sucesores(estado):\n",
    "    sucesores = []\n",
    "    torres = [list(t) for t in estado]  # convertir a listas para manipular\n",
    "    \n",
    "    for i in range(3):  # torre origen\n",
    "        if torres[i]:  # si no está vacía\n",
    "            disco = torres[i][-1]  # el disco superior\n",
    "            for j in range(3):  # torre destino\n",
    "                if i != j:\n",
    "                    if not torres[j] or torres[j][-1] > disco:\n",
    "                        # copiar el estado\n",
    "                        nuevo = [list(t) for t in estado]\n",
    "                        nuevo[i] = nuevo[i][:-1]   # quitar disco de origen\n",
    "                        nuevo[j] = nuevo[j] + [disco]  # poner disco en destino\n",
    "                        sucesores.append(tuple(tuple(t) for t in nuevo))\n",
    "    return sucesores"
   ]
  },
  {
   "cell_type": "code",
   "execution_count": 63,
   "id": "f2f9d651",
   "metadata": {},
   "outputs": [],
   "source": [
    "def h(estado, meta):\n",
    "    # número de discos que NO están en la torre meta\n",
    "    meta_torre = meta[2]  # suponemos que la torre final es la última\n",
    "    return sum(disco not in meta_torre for torre in estado for disco in torre)"
   ]
  },
  {
   "cell_type": "code",
   "execution_count": 64,
   "id": "1bf00840",
   "metadata": {},
   "outputs": [],
   "source": [
    "def bfs(inicial, meta):\n",
    "    frontera = deque([(inicial, [])]) # Cola para BFS\n",
    "    visitados = set() #al ser breadh, se tiene en cuenta que si ya se visito un nodo, fue la ruta mas rapida\n",
    "    nodos_explorados = 0 # Contador de nodos explorados\n",
    "\n",
    "    while frontera:\n",
    "        estado, camino = frontera.popleft() # Extraer el primer elemento\n",
    "        nodos_explorados += 1 # Incrementar contador\n",
    "\n",
    "        if estado == meta:\n",
    "            return camino, nodos_explorados\n",
    "\n",
    "        if estado not in visitados:\n",
    "            visitados.add(estado)\n",
    "            for sucesor in generar_sucesores(estado): # expande los nodos\n",
    "                frontera.append((sucesor, camino + [sucesor]))\n",
    "    \n",
    "    return None, nodos_explorados"
   ]
  },
  {
   "cell_type": "code",
   "execution_count": 65,
   "id": "95c9fc4b",
   "metadata": {},
   "outputs": [],
   "source": [
    "def astar(inicial, meta):\n",
    "    frontera = []\n",
    "    heapq.heappush(frontera, (h(inicial, meta), 0, inicial, []))\n",
    "    visitados = set()\n",
    "    nodos_explorados = 0 # Contador de nodos explorados\n",
    "\n",
    "    while frontera:\n",
    "        f, g, estado, camino = heapq.heappop(frontera)\n",
    "        nodos_explorados += 1 # Incrementar contador\n",
    "\n",
    "        if estado == meta:\n",
    "            return camino, nodos_explorados\n",
    "\n",
    "        if estado not in visitados:\n",
    "            visitados.add(estado)\n",
    "            for sucesor in generar_sucesores(estado):\n",
    "                nuevo_g = g + 1 # costo del paso\n",
    "                nuevo_f = nuevo_g + h(sucesor, meta) # f = g + h\n",
    "                heapq.heappush(frontera, (nuevo_f, nuevo_g, sucesor, camino + [sucesor])) \n",
    "    \n",
    "    return None, nodos_explorados"
   ]
  },
  {
   "cell_type": "code",
   "execution_count": 66,
   "id": "22589141",
   "metadata": {},
   "outputs": [
    {
     "name": "stdout",
     "output_type": "stream",
     "text": [
      "\n",
      "=== BFS ===\n",
      "Solución encontrada en 7 movimientoss:\n",
      "Paso 1: ((4, 3, 2), (1,), ())\n",
      "Paso 2: ((4, 3), (1,), (2,))\n",
      "Paso 3: ((4, 3), (), (2, 1))\n",
      "Paso 4: ((4,), (3,), (2, 1))\n",
      "Paso 5: ((4, 1), (3,), (2,))\n",
      "Paso 6: ((4, 1), (3, 2), ())\n",
      "Paso 7: ((4,), (3, 2, 1), ())\n",
      "Paso 8: ((), (3, 2, 1), (4,))\n",
      "Paso 9: ((), (3, 2), (4, 1))\n",
      "Paso 10: ((2,), (3,), (4, 1))\n",
      "Paso 11: ((2, 1), (3,), (4,))\n",
      "Paso 12: ((2, 1), (), (4, 3))\n",
      "Paso 13: ((2,), (1,), (4, 3))\n",
      "Paso 14: ((), (1,), (4, 3, 2))\n",
      "Paso 15: ((), (), (4, 3, 2, 1))\n",
      "Movimientos: 15\n",
      "Nodos explorados: 179\n",
      "Tiempo de ejecución: 0.001941 segundos\n",
      "\n",
      "=== A* ===\n",
      "Solución encontrada en 15 movimientoss:\n",
      "Paso 1: ((4, 3, 2), (1,), ())\n",
      "Paso 2: ((4, 3), (1,), (2,))\n",
      "Paso 3: ((4, 3), (), (2, 1))\n",
      "Paso 4: ((4,), (3,), (2, 1))\n",
      "Paso 5: ((4, 1), (3,), (2,))\n",
      "Paso 6: ((4, 1), (3, 2), ())\n",
      "Paso 7: ((4,), (3, 2, 1), ())\n",
      "Paso 8: ((), (3, 2, 1), (4,))\n",
      "Paso 9: ((), (3, 2), (4, 1))\n",
      "Paso 10: ((2,), (3,), (4, 1))\n",
      "Paso 11: ((2, 1), (3,), (4,))\n",
      "Paso 12: ((2, 1), (), (4, 3))\n",
      "Paso 13: ((2,), (1,), (4, 3))\n",
      "Paso 14: ((), (1,), (4, 3, 2))\n",
      "Paso 15: ((), (), (4, 3, 2, 1))\n",
      "Movimientos: 15\n",
      "Nodos explorados: 172\n",
      "Tiempo de ejecución: 0.002094 segundos\n",
      "\n",
      "=== Comparación ===\n",
      "BFS -> Nodos: 179, Tiempo: 0.001941\n",
      "A*  -> Nodos: 172, Tiempo: 0.002094\n"
     ]
    }
   ],
   "source": [
    "if __name__ == \"__main__\":\n",
    "    estado_inicial = ((4, 3, 2, 1), (), ())\n",
    "    estado_meta = ((), (), (4, 3, 2, 1))\n",
    "\n",
    "    # --- BFS ---\n",
    "    start = time.time()\n",
    "    solucion_bfs, explorados_bfs = bfs(estado_inicial, estado_meta)\n",
    "    tiempo_bfs = time.time() - start\n",
    "\n",
    "    print(\"\\n=== BFS ===\")\n",
    "    print(f\"Solución encontrada en {len(solucion_astar)} movimientoss:\")\n",
    "    for paso, s in enumerate(solucion_bfs, 1):\n",
    "        print(f\"Paso {paso}: {s}\")\n",
    "    print(f\"Movimientos: {len(solucion_bfs)}\")\n",
    "    print(f\"Nodos explorados: {explorados_bfs}\")\n",
    "    print(f\"Tiempo de ejecución: {tiempo_bfs:.6f} segundos\")\n",
    "\n",
    "    # --- A* ---\n",
    "    start = time.time()\n",
    "    solucion_astar, explorados_astar = astar(estado_inicial, estado_meta)\n",
    "    tiempo_astar = time.time() - start\n",
    "\n",
    "    print(\"\\n=== A* ===\")\n",
    "    print(f\"Solución encontrada en {len(solucion_astar)} movimientoss:\")\n",
    "    for paso, s in enumerate(solucion_astar, 1):\n",
    "        print(f\"Paso {paso}: {s}\")\n",
    "    print(f\"Movimientos: {len(solucion_astar)}\")\n",
    "    print(f\"Nodos explorados: {explorados_astar}\")\n",
    "    print(f\"Tiempo de ejecución: {tiempo_astar:.6f} segundos\")\n",
    "\n",
    "    # --- Comparación ---\n",
    "    print(\"\\n=== Comparación ===\")\n",
    "    print(f\"BFS -> Nodos: {explorados_bfs}, Tiempo: {tiempo_bfs:.6f}\")\n",
    "    print(f\"A*  -> Nodos: {explorados_astar}, Tiempo: {tiempo_astar:.6f}\")"
   ]
  }
 ],
 "metadata": {
  "kernelspec": {
   "display_name": "Python 3",
   "language": "python",
   "name": "python3"
  },
  "language_info": {
   "codemirror_mode": {
    "name": "ipython",
    "version": 3
   },
   "file_extension": ".py",
   "mimetype": "text/x-python",
   "name": "python",
   "nbconvert_exporter": "python",
   "pygments_lexer": "ipython3",
   "version": "3.13.3"
  }
 },
 "nbformat": 4,
 "nbformat_minor": 5
}
