{
 "cells": [
  {
   "cell_type": "markdown",
   "id": "2af3f043",
   "metadata": {},
   "source": [
    "**ALGORITMOS DE BUSQUEDA - Astar Torre de Hanoi**"
   ]
  },
  {
   "cell_type": "markdown",
   "id": "d0fb4e42",
   "metadata": {},
   "source": [
    "Busqueda informada"
   ]
  },
  {
   "cell_type": "code",
   "execution_count": 1,
   "id": "b035fb3e",
   "metadata": {},
   "outputs": [],
   "source": [
    "def h(estado, meta):\n",
    "    # número de discos que NO están en la torre meta\n",
    "    meta_torre = meta[2]  # suponemos que la torre final es la última\n",
    "    return sum(disco not in meta_torre for torre in estado for disco in torre)"
   ]
  },
  {
   "cell_type": "code",
   "execution_count": 2,
   "id": "668b707e",
   "metadata": {},
   "outputs": [],
   "source": [
    "def generar_sucesores(estado):\n",
    "    sucesores = []\n",
    "    torres = [list(t) for t in estado]  # convertir a listas para manipular\n",
    "    \n",
    "    for i in range(3):  # torre origen\n",
    "        if torres[i]:  # si no está vacía\n",
    "            disco = torres[i][-1]  # el disco superior\n",
    "            for j in range(3):  # torre destino\n",
    "                if i != j:\n",
    "                    if not torres[j] or torres[j][-1] > disco:\n",
    "                        # copiar el estado\n",
    "                        nuevo = [list(t) for t in estado]\n",
    "                        nuevo[i] = nuevo[i][:-1]   # quitar disco de origen\n",
    "                        nuevo[j] = nuevo[j] + [disco]  # poner disco en destino\n",
    "                        sucesores.append(tuple(tuple(t) for t in nuevo))\n",
    "    return sucesores"
   ]
  },
  {
   "cell_type": "code",
   "execution_count": 3,
   "id": "a0540a52",
   "metadata": {},
   "outputs": [],
   "source": [
    "import heapq\n",
    "\n",
    "def astar(inicial, meta):\n",
    "    # Cola de prioridad (min-heap)\n",
    "    frontera = []\n",
    "    heapq.heappush(frontera, (h(inicial, meta), 0, inicial, []))\n",
    "    # tupla = (f = g+h, g, estado, camino)\n",
    "\n",
    "    visitados = set()\n",
    "\n",
    "    while frontera:\n",
    "        f, g, estado, camino = heapq.heappop(frontera)\n",
    "\n",
    "        if estado == meta:\n",
    "            return camino  # lista de movimientos\n",
    "\n",
    "        if estado not in visitados:\n",
    "            visitados.add(estado)\n",
    "            for sucesor in generar_sucesores(estado):\n",
    "                nuevo_g = g + 1\n",
    "                nuevo_f = nuevo_g + h(sucesor, meta)\n",
    "                heapq.heappush(frontera, (nuevo_f, nuevo_g, sucesor, camino + [sucesor]))\n",
    "\n",
    "    return None"
   ]
  },
  {
   "cell_type": "code",
   "execution_count": 4,
   "id": "afc80405",
   "metadata": {},
   "outputs": [
    {
     "name": "stdout",
     "output_type": "stream",
     "text": [
      "\n",
      "[A*] Solución encontrada en 31 movimientos:\n",
      "Paso 1: ((5, 4, 3, 2), (), (1,))\n",
      "Paso 2: ((5, 4, 3), (2,), (1,))\n",
      "Paso 3: ((5, 4, 3), (2, 1), ())\n",
      "Paso 4: ((5, 4), (2, 1), (3,))\n",
      "Paso 5: ((5, 4, 1), (2,), (3,))\n",
      "Paso 6: ((5, 4, 1), (), (3, 2))\n",
      "Paso 7: ((5, 4), (), (3, 2, 1))\n",
      "Paso 8: ((5,), (4,), (3, 2, 1))\n",
      "Paso 9: ((5,), (4, 1), (3, 2))\n",
      "Paso 10: ((5, 2), (4, 1), (3,))\n",
      "Paso 11: ((5, 2, 1), (4,), (3,))\n",
      "Paso 12: ((5, 2, 1), (4, 3), ())\n",
      "Paso 13: ((5, 2), (4, 3), (1,))\n",
      "Paso 14: ((5,), (4, 3, 2), (1,))\n",
      "Paso 15: ((5,), (4, 3, 2, 1), ())\n",
      "Paso 16: ((), (4, 3, 2, 1), (5,))\n",
      "Paso 17: ((1,), (4, 3, 2), (5,))\n",
      "Paso 18: ((1,), (4, 3), (5, 2))\n",
      "Paso 19: ((), (4, 3), (5, 2, 1))\n",
      "Paso 20: ((3,), (4,), (5, 2, 1))\n",
      "Paso 21: ((3,), (4, 1), (5, 2))\n",
      "Paso 22: ((3, 2), (4, 1), (5,))\n",
      "Paso 23: ((3, 2, 1), (4,), (5,))\n",
      "Paso 24: ((3, 2, 1), (), (5, 4))\n",
      "Paso 25: ((3, 2), (), (5, 4, 1))\n",
      "Paso 26: ((3,), (2,), (5, 4, 1))\n",
      "Paso 27: ((3,), (2, 1), (5, 4))\n",
      "Paso 28: ((), (2, 1), (5, 4, 3))\n",
      "Paso 29: ((1,), (2,), (5, 4, 3))\n",
      "Paso 30: ((1,), (), (5, 4, 3, 2))\n",
      "Paso 31: ((), (), (5, 4, 3, 2, 1))\n"
     ]
    }
   ],
   "source": [
    "if __name__ == \"__main__\":\n",
    "    estado_inicial = ((5, 4, 3, 2, 1), (), ())\n",
    "    estado_meta = ((), (), (5, 4, 3, 2, 1))\n",
    "\n",
    "    solucion_astar = astar(estado_inicial, estado_meta)\n",
    "    print(f\"\\n[A*] Solución encontrada en {len(solucion_astar)} movimientos:\")\n",
    "    for paso, s in enumerate(solucion_astar, 1):\n",
    "        print(f\"Paso {paso}: {s}\")"
   ]
  }
 ],
 "metadata": {
  "kernelspec": {
   "display_name": "Python 3",
   "language": "python",
   "name": "python3"
  },
  "language_info": {
   "codemirror_mode": {
    "name": "ipython",
    "version": 3
   },
   "file_extension": ".py",
   "mimetype": "text/x-python",
   "name": "python",
   "nbconvert_exporter": "python",
   "pygments_lexer": "ipython3",
   "version": "3.13.3"
  }
 },
 "nbformat": 4,
 "nbformat_minor": 5
}
